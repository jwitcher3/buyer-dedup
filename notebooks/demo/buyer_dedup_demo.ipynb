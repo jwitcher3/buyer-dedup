{
 "cells": [
  {
   "cell_type": "markdown",
   "id": "9189b6b5",
   "metadata": {},
   "source": [
    "# Buyer Deduplication Demo\n",
    "\n",
    "This demo uses a small synthetic dataset to show how the deduplication logic works for calculating unique buyers MTD."
   ]
  },
  {
   "cell_type": "code",
   "execution_count": null,
   "id": "3c61c6c6",
   "metadata": {},
   "outputs": [],
   "source": [
    "import pandas as pd\n",
    "from datetime import datetime\n",
    "\n",
    "# Load sample data\n",
    "df = pd.read_csv(\"notebooks/demo/sample_transactions.csv\", parse_dates=[\"order_date\"])\n",
    "df"
   ]
  },
  {
   "cell_type": "markdown",
   "id": "6f1d12d2",
   "metadata": {},
   "source": [
    "## Step 1: Add 'month' field to group purchases"
   ]
  },
  {
   "cell_type": "code",
   "execution_count": null,
   "id": "41867c3d",
   "metadata": {},
   "outputs": [],
   "source": [
    "df[\"month\"] = df[\"order_date\"].dt.to_period(\"M\")\n",
    "df"
   ]
  },
  {
   "cell_type": "markdown",
   "id": "e083c039",
   "metadata": {},
   "source": [
    "## Step 2: Get first purchase per buyer per month per segment"
   ]
  },
  {
   "cell_type": "code",
   "execution_count": null,
   "id": "b4b18ff6",
   "metadata": {},
   "outputs": [],
   "source": [
    "monthly_first_purchase = df.groupby([\"customer_id\", \"country\", \"channel\", \"sales_channel\", \"month\"])[\"order_date\"].min().reset_index()\n",
    "monthly_first_purchase"
   ]
  },
  {
   "cell_type": "markdown",
   "id": "3f159b8b",
   "metadata": {},
   "source": [
    "## Step 3: Count unique buyers by date"
   ]
  },
  {
   "cell_type": "code",
   "execution_count": null,
   "id": "66c1cc70",
   "metadata": {},
   "outputs": [],
   "source": [
    "daily_summary = df.groupby(\"order_date\").agg(unique_buyers=('customer_id', 'nunique')).reset_index()\n",
    "daily_summary"
   ]
  },
  {
   "cell_type": "markdown",
   "id": "6df98b1a",
   "metadata": {},
   "source": [
    "This example demonstrates how to ensure buyers aren't double-counted within a single month for any given segment."
   ]
  }
 ],
 "metadata": {},
 "nbformat": 4,
 "nbformat_minor": 5
}
